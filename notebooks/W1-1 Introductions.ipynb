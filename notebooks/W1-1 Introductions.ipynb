{
 "cells": [
  {
   "cell_type": "markdown",
   "metadata": {
    "slideshow": {
     "slide_type": "slide"
    }
   },
   "source": [
    "# <center> Welcome to this Course </center>\n",
    "## <center> Week 1 - Introductions </center>\n",
    "\n",
    "\n"
   ]
  },
  {
   "cell_type": "markdown",
   "metadata": {
    "slideshow": {
     "slide_type": "fragment"
    }
   },
   "source": [
    "\n",
    "Welcome to this course on Data-driven Reliability Engineering for in-service assets\n",
    "\n",
    " 📚 Source: [W3-1 Data-Driven Reliability Metrics]()"
   ]
  },
  {
   "cell_type": "markdown",
   "metadata": {
    "slideshow": {
     "slide_type": "slide"
    }
   },
   "source": [
    "## Why this course?  <a class=\"anchor\" id=\"Why-this-class\"></a>\n",
    "\n",
    "* Reliability analysis uses well-established statistical methods to determine performance parameters e.g. mean-time-to-failure (MTTF) estimates.\n",
    "* However, the data inputs to these calculations depend on how the raw data from maintenance repair records has been processed. \n",
    "* Processes to extract and clean raw maintenance data are often ad hoc and performed differently by each engineer. \n",
    "* As a result calculations for asset reliability measures, identification of historical failure and repair events and failure modes are difficult to replicate. \n",
    "* Currently, the process is manual, time-consuming and not scalable. "
   ]
  },
  {
   "cell_type": "markdown",
   "metadata": {
    "slideshow": {
     "slide_type": "slide"
    }
   },
   "source": [
    "## Goal of this course <a class=\"anchor\" id=\"Goal-of-this-class\"></a>\n",
    "\n",
    "The goal of this course is to enable you, as practicing reliability engineers, to use state of the art, open-source code-based tools, to interrogate your maintenance work order data and extract MTBF values and failure mode information."
   ]
  },
  {
   "cell_type": "markdown",
   "metadata": {
    "slideshow": {
     "slide_type": "slide"
    }
   },
   "source": [
    "## Learning outcomes <a class=\"anchor\" id=\"Learning-outcomes\"></a>\n",
    "\n",
    "At the end of this course participants should be able to:\n",
    "\n",
    "1. Estimate the parameters for a Weibull distribution on the life of an asset from maintenance work order data\n",
    "2. Determine key failure modes for an asset from maintenance work order data\n",
    "3. Describe the impact of pre-processing decisions on calculation of common reliability metrics\n",
    "\n",
    "And understand *your role* in the process."
   ]
  },
  {
   "cell_type": "markdown",
   "metadata": {
    "slideshow": {
     "slide_type": "slide"
    }
   },
   "source": [
    "## Target audience for this course\n",
    "\n",
    "You are involved in maintenance strategy development, day-to-day reliability analysis of existing plant, reliability improvement efforts, or maintenance management metrics. \n",
    "\n"
   ]
  },
  {
   "cell_type": "markdown",
   "metadata": {
    "slideshow": {
     "slide_type": "subslide"
    }
   },
   "source": [
    "You have ...\n",
    "\n",
    "* an understanding of how Weibull parameters are used in characterising failure behaviour (wear in, wear out and random) and for setting intervals in maintenance strategy, and \n",
    "* understand simple characterisation of statistical distributions such as mean and variance, and seek to use this knowledge in applying more advanced analytics processes to your maintenance work order data."
   ]
  },
  {
   "cell_type": "markdown",
   "metadata": {
    "slideshow": {
     "slide_type": "slide"
    }
   },
   "source": [
    "## About your presenters\n",
    "\n",
    "### Tyler Bikaun: \n",
    "\n",
    "Industrial Maintenance | Mechanical Engineer - PhD program in Technical Languaage Processing\n",
    "LinkedIn: https://www.linkedin.com/in/tyler-bikaun/\n",
    "Google Scholar: https://scholar.google.com/citations?hl=en&user=jZpJEnEAAAAJ\n",
    "\n",
    "### Melinda Hodkiewicz\n",
    "\n",
    "Maintenance | Reliability, Risk and Safety | Asset Management - Professor\n",
    "LinkedIn: https://www.linkedin.com/in/melinda-hodkiewicz-b6bbba7/\n",
    "Google Scholar: https://scholar.google.com/citations?hl=en&user=1JGboosAAAAJ\n",
    "\n"
   ]
  },
  {
   "cell_type": "markdown",
   "metadata": {
    "slideshow": {
     "slide_type": "slide"
    }
   },
   "source": [
    "## About you\n",
    "\n",
    "</br>\n",
    "<div style=\"margin: 8px; padding: 8px;\">\n",
    "    <div style=\"text-align:center; margin-bottom: 8px;\">\n",
    "        <a href=\"\" style=\"color: black; font-weight: bold;\">Go to Menti https://www.menti.com/ti142cfex5</a>\n",
    "    </div>\n",
  
    "</div>\n"
   ]
  },
  {
   "cell_type": "markdown",
   "metadata": {
    "slideshow": {
     "slide_type": "slide"
    }
   },
   "source": [
    "## Timetable for the course <a class=\"anchor\" id=\"Timetable-for-the-course\"></a>\n",
    "\n",
    "| Day | Subject | Date |\n",
    "| :- | :- | :- |\n",
    "| 1 | Introduction and contextualisation | Wednesday 20th July 1-5pm |\n",
    "| 2 | Determining reliability estimates at scale | Wednesday 27th July 1-5pm  |\n",
    "| 3 | Technical Information extraction | Wednesday 3rd August 1-5pm |\n",
    "| 4 | Technical information extraction (hands on) | Wednesday 10th August 1-5pm |\n",
    "| 5 | Interpreting your own data| Wednesday 17th August 1-5pm |\n",
    "| 6 | Presenting your data-driven results | Wednesday 24th August 1-5pm |\n",
    "\n"
   ]
  },
  {
   "cell_type": "markdown",
   "metadata": {
    "slideshow": {
     "slide_type": "slide"
    }
   },
   "source": [
    "## About the materials\n",
    "\n",
    "All the materialso in this course are in the form of Jupyter notebooks. \n",
    "\n",
    "These are comprised of text and Python code blocks. \n",
    "\n",
    "The code blocks are used to demonstrate the data processing and calculations. \n",
    "\n",
    "There is no need to be able to code in Python yourself. "
   ]
  },
  {
   "cell_type": "markdown",
   "metadata": {
    "slideshow": {
     "slide_type": "slide"
    }
   },
   "source": [
    "## About CORE SKILLS and CORE INNOVATION HUB\n",
    "\n",
    "Supporting the skills pathways from today to tomorrow for Industry 4.0\n",
    "\n",
    "https://www.corehub.com.au/data-science\n",
    "\n",
    "### Zane Prickett\n",
    "\n",
    "Director Unearthed and CORE | Engineer |\n",
    "LinkedIn: https://www.linkedin.com/in/zaneprickett/\n",
    "\n",
    "### Tamryn Barker\n",
    "\n",
    "CORE Skills lead | Business and innovation strategy and execution\n",
    "LinkedIn: https://www.linkedin.com/in/tamryn-barker-%E8%B0%AD%E7%9D%BF-gaicd-965b4321/\n"
   ]
  },
  {
   "cell_type": "markdown",
   "metadata": {
    "slideshow": {
     "slide_type": "slide"
    }
   },
   "source": [
    "## Contact details <a class=\"anchor\" id=\"Contact-details\"></a>\n",
    "\n",
    "All contact should be made to Tamryn at tamryn@corehub.com.au and +61 (0) 424 051 307"
   ]
  }
 ],
 "metadata": {
  "celltoolbar": "Slideshow",
  "interpreter": {
   "hash": "d2d691ec8cfe3a85f184d6edc3cbf3149ce1af6485f068e96417c3dcb7ff8547"
  },
  "kernelspec": {
   "display_name": "Python 3 (ipykernel)",
   "language": "python",
   "name": "python3"
  },
  "language_info": {
   "codemirror_mode": {
    "name": "ipython",
    "version": 3
   },
   "file_extension": ".py",
   "mimetype": "text/x-python",
   "name": "python",
   "nbconvert_exporter": "python",
   "pygments_lexer": "ipython3",
   "version": "3.10.4"
  }
 },
 "nbformat": 4,
 "nbformat_minor": 2
}
