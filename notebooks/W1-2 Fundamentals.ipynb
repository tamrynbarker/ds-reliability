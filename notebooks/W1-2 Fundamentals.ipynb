{
 "cells": [
  {
   "cell_type": "markdown",
   "metadata": {
    "slideshow": {
     "slide_type": "slide"
    }
   },
   "source": [
    "# Reliability and maintenance strategy - Introduction and contextualisation\n",
    "Source: [Data Science for Reliability Engineering]() repository.\n"
   ]
  },
  {
   "cell_type": "markdown",
   "metadata": {
    "slideshow": {
     "slide_type": "slide"
    }
   },
   "source": [
    "\n",
    "**Overview**: ...\n",
    "\n",
    "## Table of Contents\n",
    "1. [The business case for reliability metrics and maintenance strategy]()\n",
    "2. [Goals of reliability engineers]()\n",
    "3. [Maintenance strategy]()\n",
    "4. [Common mental model for reliability]()\n",
    "5. [The notion of function]()\n",
    "   1. [Examples of function]()\n",
    "6. [The notion of failure]()\n",
    "   1. [Failure terminology]()\n",
    "   2. [Failure modes]()\n",
    "7. [Determining reliability]()\n",
    "8. [Where does failure event data come from?]()\n",
    "9. [Activity: Calculate the point estimate for Pump 1]()\n",
    "   1.  [End of life events]()\n",
    "   2.  [Mean life]()\n",
    "10. [Introducing failure data Weibull distributions]()\n",
    "11. [Estimating reliability measures]()\n",
    "    1.  [Steps in processing maintenance work orders for reliability analysis]()\n",
    "12. [Test yourself]()"
   ]
  },
  {
   "cell_type": "markdown",
   "metadata": {
    "slideshow": {
     "slide_type": "slide"
    }
   },
   "source": [
    "## Visibility of Asset Management (AM) in organisations <a class=\"anchor\" id=\"Asset_management\"></a>\n",
    "\n",
    "An important capability for board members and executives of asset intensive industries particularly in the areas of:\n",
    "\n",
    "* Capital spending\n",
    "* Safety and integrity\n",
    "* Confidence in meeting production/ service and budget goals\n",
    "* Risk management. \n"
   ]
  },
  {
   "cell_type": "markdown",
   "metadata": {
    "slideshow": {
     "slide_type": "subslide"
    }
   },
   "source": [
    "Metrics for assessing asset management performance are now standard in executive reporting. These include:\n",
    "\n",
    "* asset/plant availability\n",
    "* throughput and costs\n",
    "* process safety"
   ]
  },
  {
   "cell_type": "markdown",
   "metadata": {
    "slideshow": {
     "slide_type": "subslide"
    }
   },
   "source": [
    "Access to data for metrics and visibility of performance has increased recently due to: \n",
    "\n",
    "* organisation-wide systems integration\n",
    "* increased data analytics capabilities\n",
    "* adoption of business intelligence platforms\n"
   ]
  },
  {
   "cell_type": "markdown",
   "metadata": {
    "slideshow": {
     "slide_type": "subslide"
    }
   },
   "source": [
    "These developments have vastly increased the data available as input to analysts and decision-makers. \n",
    "\n",
    "As the access to information held in manufacturing execution systems (MES) and enterprise resource planning (ERP) systems has increased, so have expectations about the timeliness of reporting."
   ]
  },
  {
   "cell_type": "markdown",
   "metadata": {
    "slideshow": {
     "slide_type": "slide"
    }
   },
   "source": [
    "## What are the goals for reliability engineers supporting in-service phase assets\n",
    "\n",
    "Do you agree with these goals? \n",
    "\n",
    "- Input to the development of maintenance strategy and measurement of its effectiveness.\n",
    "- Apply engineering knowledge and specialist techniques to prevent or to reduce the likelihood or frequency of failures.\n",
    "- Identify and correct the causes of failures that do occur, despite the efforts to prevent them.\n",
    "- Determine ways of coping with failures that do occur, if their causes have not, or cannot, been corrected.\n",
    "- Apply methods for estimating the likely reliability of new designs, and for analysing reliability data.\n",
    "\n",
    "Do you have others to add?"
   ]
  },
  {
   "cell_type": "markdown",
   "metadata": {
    "slideshow": {
     "slide_type": "slide"
    }
   },
   "source": [
    "## What do we mean by Maintenance Strategy?\n",
    "\n",
    "In everyday English, maintenance strategy is the approach we have pre-determined as appropriate to ensure the asset delivers on it's maintenance objectives (availability, cost, safety etc). \n",
    "\n",
    "Decisions on what maintenance to do (and when) on an asset is determined by asset criticality and failure behaviour. \n",
    "\n",
    "Maintenance strategy for a specific asset is normally composed of a number of desired activities determined by a structured process or Original Equipment Manufacturer (OEM) specifications with intervals for each activity informed by cost, operating schedules etc."
   ]
  },
  {
   "cell_type": "markdown",
   "metadata": {
    "slideshow": {
     "slide_type": "subslide"
    }
   },
   "source": [
    "\n",
    "Structured processes for this include such as Reliability-centred Maintenance (RCM) and Preventative Maintenance Optimisation (PMO). \n",
    "\n",
    "The RCM process involves a Failure Modes and Effects Analysis (FMEA) followed by the use of a decision-tree process to identify a suitable maintnance activity type for each high ranking failure mode. \n",
    "\n",
    "These maintenance activity types are \n",
    "\n",
    "* failure finding, \n",
    "* scheduled replacement, \n",
    "* scheduled restoration, \n",
    "* scheduled on-condition, \n",
    "* run-to-failure and \n",
    "* redesign. "
   ]
  },
  {
   "cell_type": "markdown",
   "metadata": {
    "slideshow": {
     "slide_type": "subslide"
    }
   },
   "source": [
    "Our day to day contact with the output of the maintenance strategy development process is the `preventative maintenance related` code used in the maintenance work orders (MWO) produced by our CMMS. Preventative maintenance is defined (EN13306:2017) as _\"maintenance carried out intended to assess and/or to mitigate degradation and reduce the probability of failure of an item.\"_ Failure finding, scheduled replacement, scheduled restoration, scheduled on-condition are all examples of preventative maintenance acitivities."
   ]
  },
  {
   "cell_type": "markdown",
   "metadata": {
    "slideshow": {
     "slide_type": "subslide"
    }
   },
   "source": [
    "\n",
    "Examples of the CMMS field name containing strategy related information are `Work Order Type`, `Order Type`, and `Activity Cause` and depend on the column headings used by individual organisations.\n",
    "\n",
    "Examples of codes used include (but are not limited to):\n",
    "- `PM01`: Corrective, modification or improvement work\n",
    "- `PM02`: Work generated from strategies stored in the CMMS (Routine preventative)\n",
    "- `PM03`: Immediate/ urgent work bypassing the planning and scheduling process\n",
    "- or `Corrective` and `Preventative`.\n"
   ]
  },
  {
   "cell_type": "markdown",
   "metadata": {
    "slideshow": {
     "slide_type": "slide"
    }
   },
   "source": [
    "## Getting on the same page with definitions.\n",
    "\n",
    "CEN EN 13306 (2017) is the European Committe for Standardization's Maintenance - Maintenance Terminology Standard (2017) and specifies generic terms and definitions for the technical, administrative and managerial areas of maintenance. Many of the definitions given below are identica (or very close in intent) to the widely-used ISO 14224 (2016) standard.\n",
    "\n",
    "`Maintenance` : combination of all technical, administrative and managerial actions during the life cycle of an item intended to retain it in, or restore it to, a state in which it can perform the required function.\n",
    "\n",
    "`Required function` : function, combination of functions, or a total combination of functions of an item which are considered necessary to fulfil a given requirement.\n",
    "\n",
    "`Maintenance Strategy` : management method used in order to achieve the maintenance objectives. \n",
    "\n",
    "`Maintenance Objectives`: targets assigned and accepted for the maintenance activities.\n",
    "  \n",
    "Note 1 to entry: These targets may include for example availability, cost reduction, product quality, environment preservation, safety, useful life, asset value preservation.\n"
   ]
  },
  {
   "cell_type": "markdown",
   "metadata": {
    "slideshow": {
     "slide_type": "slide"
    }
   },
   "source": [
    "## Why is getting maintenance strategy correct so important?\n",
    "\n",
    "\n",
    "<div style=\"display: flex; justify-content:center;\">\n",
    "    <img src=\"images/WhyMStrimportant.png\" alt=\"Why is maintenance strategy important?\" style=\"width:50%\"/>\n",
    "</div>\n",
    "<!-- ![Why is maintenance strategy important?](images/WhyMStrimportant.png) -->"
   ]
  },
  {
   "cell_type": "markdown",
   "metadata": {
    "slideshow": {
     "slide_type": "notes"
    }
   },
   "source": [
    "```{note}\n",
    "\n",
    "Maintenance strategy impacts the following:\n",
    "\n",
    "1. Availability - Assets need to be available for the time required to achieve operational targets. \n",
    "\n",
    "2. Rate of production - Assets with degraded components may not operate at the required rate. For example, a worn pump will not produce the required flow and head. Taken together lower rates or production and lower availability impact the volume of PRODUCT TO MARKET.\n",
    "\n",
    "3. Quality of product - Process plants need to be 'in control'. Plants, particularly slurry and chemical processes, where assets go on and off line unexpectedly, cause havoc in density levels and the reaction chemistries, resulting in lower recoveries/ product quality.  This directly affected the PRICE of your product.\n",
    "\n",
    "4. Lower volume of PRODUCT TO MARKET and PRICE combine to impact your REVENUE.\n",
    "\n",
    "5. Maintenance STRATEGY directly impacts COSTS. If you are doing too much preventative work or too much corrective work, and the work you are doing is not effective, then you are wasting money through your strategy.\n",
    "\n",
    "5. Lower REVENUE and higher COSTS lead to lower EARNINGS and failure to meet production targets.\n",
    "\n",
    "6. If you are a public listed company this can impact your REPUTATION in the market.\n",
    "\n",
    "7. Maintenance STRATEGY also impacts the likelihood of Major Accident Events. If risks are not managed effectively then there can be serious impacts on REPUTATION in the event of loss of life and/or environmental damage.\n",
    " \n",
    "```"
   ]
  },
  {
   "cell_type": "markdown",
   "metadata": {
    "slideshow": {
     "slide_type": "slide"
    }
   },
   "source": [
    "## The hard-to-do part of linking work management back to strategy\n",
    "\n",
    "<div style=\"display: flex; justify-content:center; align-items: center; flex-direction: column;\">\n",
    "    <img src=\"images\\NoFeeddbackLoopMM.jpg\" alt=\"Feedback loop from Work Management\" style=\"width: 50%;\"/>\n",
    "   </div>"
   ]
  },
  {
   "cell_type": "markdown",
   "metadata": {
    "slideshow": {
     "slide_type": "slide"
    }
   },
   "source": [
    "### Discussion on Menti\n",
    "\n",
    "\n",
    "</br>\n",
    "<div style=\"margin: 8px; padding: 8px; background-color: yellow;\">\n",
    "    <div style=\"text-align:center; margin-bottom: 8px;\">\n",
    "        <a href=\"\" style=\"color: black; font-weight: bold;\">Go to Menti</a>\n",
    "    </div>\n",
    "    <li>Can you share some examples of what you use data in your CMMS for? </li>\n",
    "    <li>Is there repetitive analysis that needs to be done (Monthly/ quarterly/ annually etc)? If so, can you describe? </li>\n",
    "    <li>Identify analysis you would like to do on CMMS data </li>\n",
    " \n",
    "</div>\n",
    "\n"
   ]
  },
  {
   "cell_type": "markdown",
   "metadata": {
    "slideshow": {
     "slide_type": "notes"
    }
   },
   "source": [
    "## Common analysis tasks\n",
    "\n",
    "* Validation of predictive algorithms (did the item identified by the prediction actually show loss of function)\n",
    "* Validation of replace/ repair decisions specified in preventative strategies\n",
    "* Adjust or optimise replace/ repair intervals \n",
    "* Update asset risk ranking (were there consequences that are different than suggested by existing rankings)\n",
    "* Check inspection maintenance strategy is appropriate and conducted properly\n",
    "* Identify emerging or missed failure modes and update FMEA and strategy\n",
    "* Assess adequacy of procedures\n",
    "* Determine when the next work should be done"
   ]
  },
  {
   "cell_type": "markdown",
   "metadata": {
    "slideshow": {
     "slide_type": "slide"
    }
   },
   "source": [
    "## What do we mean by reliability? \n",
    "\n",
    "Reliability is expressed as _\"the probability that an asset or component will perform its intended `function` for a specified time period under specified conditions (MIL-STD-721C).\"_\n",
    "\n",
    "We use the term `item` to denote any maintainable component, subsystem or system (hardware and software). \n",
    "\n",
    "All items are designed to perform one or more `required functions`. Some of these functions are active and some functions are passive.\n",
    "\n",
    "To assess `reliability` we must first specify the `required function(s)` we are considering. \n",
    "\n",
    "The notion of `function` is core to reliability and at the heart of processes such as `Failure Modes and Effects analysis (FMEA)`.\n",
    "\n",
    "`FMEA` is the input to other processes such as `Reliability-centred maintenance (RCM)`, widely used for maintenance strategy development."
   ]
  },
  {
   "cell_type": "markdown",
   "metadata": {
    "slideshow": {
     "slide_type": "slide"
    }
   },
   "source": [
    "## Reliability engineers focus on function\n",
    "\n",
    "As reliability engineers, when we look at physical view (left) we refactor it to the functional view (right).\n",
    "\n",
    "<div style=\"display: flex; justify-content:space-evenly; align-items: center; flex-direction: row;\">\n",
    "    <img src=\"images/engine.jpg\" alt=\"Physical view\" style=\"width: 25%;\"/>\n",
    "    <img src=\"images/enginefunctionalbreakdown.png\" alt=\"Functional view\" style=\"width: 35%;\"/>\n",
    "</div>"
   ]
  },
  {
   "cell_type": "markdown",
   "metadata": {
    "slideshow": {
     "slide_type": "slide"
    }
   },
   "source": [
    "## The notion of function \n",
    "\n",
    "There are different wordings of definitions of `function` across various standards but they have similar semantics\n",
    "\n",
    "- function is what the owner or user of a physical asset or system wants it to do (SAE JA 1011/12)\n",
    "- function is something that exists as a permanent, essential or characteristic attribute of an item (IEC 81346-2)\n",
    "- function is considered necessary to fulfil a given requirement (EN 13306)\n",
    "- functions are usually associated with a desired level of performance\n",
    "- functions, often called secondary functions are those needed to fulfil regulatory requirements and those which concern issues such as protection, control, containment, comfort, appearance, energy efficiency and structural integrity."
   ]
  },
  {
   "cell_type": "markdown",
   "metadata": {
    "slideshow": {
     "slide_type": "slide"
    }
   },
   "source": [
    "## Examples of function\n",
    "\n",
    "The IEC 81346-2 2019 standard has a set of classes for the inherent function of objects\n",
    "\n",
    "| Class code | Function | Example|\n",
    "| ----------------|----------|-------------|\n",
    "| B | Sensing | e.g. flow sensor, limit switch, counter, camera|\n",
    "| C | Storing | e.g. capacitor, battery, box, tank, flywheel|\n",
    "| E | Emitting | e.g. lamp, furnace, chiller, boiler, sonar|\n",
    "| F | Protecting | e.g. circuit breaker, concrete wall, expansion tank, wear pad, cathodic protection|\n",
    "| G | Generating | e.g. generator, fuel cell, laser, conveyor, pump, compressor|\n",
    "| H | Matter processing | e.g. 3D printer, robot, soldering machine, cyclome, filter, crusher, chemical reactor|\n",
    "| K | Information processing | e.g. PLC, relay, optimal network switch, mechanical regulator|\n",
    "| M | Driving | e.g. motor, actuator, magnet, cylinder, engine |\n",
    "| N | Covering | gasket, joint, gland, door, skirting, lining|\n",
    "| P | Presenting | e.g. meter, display, loudspeaker, sign, TV|\n",
    "| Q | Controlling | e.g. contactor, gate, valve, window|\n",
    "| R | Restricting | e.g. diode, resistor, brake, non-return valve, nozzle, shutter, barrier|\n",
    "| S | Human interaction | e.g. emergency pull wire, keyboard, touch actuator, operating panel|\n",
    "| T | Transforming | e.g. converter, transformer, antenna, gear, manufacturing machines|\n",
    "| U | Holding | e.g. stand, flange, cable duct, cabinet, bearing, fastener, joint|\n",
    "| W | Guiding | e.g. busbar, optical light fibre, pipe, duct, axlem drive belt, rail track, heat sink|\n",
    "| X | Interfacing | e.g. clamp, terminal, drain, hose fittings, clutch, coupling, opening|\n",
    "\n"
   ]
  },
  {
   "cell_type": "markdown",
   "metadata": {
    "slideshow": {
     "slide_type": "slide"
    }
   },
   "source": [
    "## The notion of failure\n",
    "\n",
    "A `failure` is the loss of ability to perform the (primary) function as required (ISO 14224: 2016)\n",
    "\n",
    "So in order to define `failures` we have to have a common and clear idea of `functions`.\n",
    "\n",
    "Reliability engineers are responsible for defining functions _and_ failures. \n",
    "\n",
    "Having each reliability engineer decide what is and isn't a failure using their own rules leads to chaos as RE's move roles. \n",
    "\n",
    "Failure criteria, especailly for critical assets, should be unambiguous. \n",
    "\n",
    "How to do this? \n",
    "\n",
    "Failure should be related to a measurable parameter or a clear indication (hence the need to define performance levels for the Function)\n",
    "\n",
    "We do have to recognise though that there can be subjective variations in assessing failures but we should try and minimise this."
   ]
  },
  {
   "cell_type": "markdown",
   "metadata": {
    "slideshow": {
     "slide_type": "slide"
    }
   },
   "source": [
    "## Failure terminology\n",
    "\n",
    "One thing we can do is agree on our language for describing failure. In this program we use the following definitions from CEN 13306: 2017\n",
    "\n",
    "\n",
    "`Failure`: loss of the ability of an item to perform a required function.  \n",
    "Note 1 to entry: After failure the item has a fault, which may be complete or partial.  \n",
    "Note 2 to entry: \"Failure\" is an event, as distinguished from \"fault\", which is a state.  \n",
    "Note 3 to entry: The concept as defined does not apply to items consisting of software only.\n",
    "\n",
    "`Failure mode`: manner in which the inability of an item to perform a required function occurs.  \n",
    "Note 1 to entry: A failure mode may be defined by the function lost or the state transition that occurred.\n",
    "\n",
    "`Failure cause`: circumstances during specification, design, manufacture, installation, use or maintenance that result in failure.\n",
    "\n",
    "`Failure mechanism`: physical, chemical or other processes which may lead or have led to failure.  \n",
    "\n",
    "`Hidden failure`: failure which is not detected during normal operation.\n"
   ]
  },
  {
   "cell_type": "markdown",
   "metadata": {
    "slideshow": {
     "slide_type": "slide"
    }
   },
   "source": [
    "## Failure modes\n",
    "\n",
    "Can be categorized as \n",
    "- Desired function is not obtained (e.g. failure to start)\n",
    "- Specified function lost or outside of operational limits (e.g. spurious stop, high output)\n",
    "- Failure indication is observed but there is not immediate or critical impact on the equipment-unit function (e.g. initial wear)\n"
   ]
  },
  {
   "cell_type": "markdown",
   "metadata": {
    "slideshow": {
     "slide_type": "subslide"
    }
   },
   "source": [
    "Examples of failure modes (from ISO 14224:2016)\n",
    "\n",
    "|Abnormal instrument reading | External leakage | Erratic output | Faulty output frequency | \n",
    "|Internal leakage | Loss of redundancy | Vibration | Overheating |\n",
    "|Parameter deviation | Plugged / choked | Minor in-service problems | Spurious operation |\n",
    "|Structural deficiency | Failure to stop on demand |"
   ]
  },
  {
   "cell_type": "markdown",
   "metadata": {
    "slideshow": {
     "slide_type": "subslide"
    }
   },
   "source": [
    "Why is consistent language for failure modes and mechanisms important in organisations?\n",
    "\n",
    "If everyone has their own categories, or uses categories incorrectly then there is no common mental model and it is hard to re-use previous works (e.g. FMEAs, RCA, pareto analyses). Extra work is required for data wrangling and it is also difficult to then use AI to help you."
   ]
  },
  {
   "cell_type": "markdown",
   "metadata": {
    "slideshow": {
     "slide_type": "notes"
    }
   },
   "source": [
    "The failure mode is NOT the same as the failure mechanism.\n",
    "\n",
    "Mechanical failure mechanisms: \n",
    "* stress-induced (elastic deformation, fracture etc.)\n",
    "* strength-reduced (embrittlement, wear, corrosion etc.)\n",
    "* stress-increasing (fatigue, impact, radiation)\n",
    "\n",
    "Electrical failure mechanisms:\n",
    "* Electrical stress (voltage/ current/ electrostatic levels higher than design)\n",
    "* Intrinsic (gate oxide breakdown, ionic breakdown)\n",
    "* Extrinsic (corrosion, bonding)\n",
    "\n",
    "Reference: Both lists from Modarres, M. et al. (2017) Reliability Engineering and Risk Analysis – A practical guide"
   ]
  },
  {
   "cell_type": "markdown",
   "metadata": {
    "slideshow": {
     "slide_type": "slide"
    }
   },
   "source": [
    "## Example of failure mode code by functional location from industry\n",
    "\n",
    "<div style=\"display: flex; justify-content:center; align-items: center; flex-direction: column;\">\n",
    "    <img src=\"images\\Failure_mode_examples.png\" alt=\"Illustration of poor control of Failure Mode codes\" style=\"width: 50%;\"/>\n",
    "   </div>"
   ]
  },
  {
   "cell_type": "markdown",
   "metadata": {
    "slideshow": {
     "slide_type": "slide"
    }
   },
   "source": [
    "\n",
    "## Point estimates of reliability\n",
    "\n",
    "Two common metrics for reliability are mean time to failure (MTTF) and mean time between failure (MTBF).\n",
    "\n",
    "In text books MTTF is used for non-repairable items and MTBF for repairable assets but we shall use the terms interchangeably in this program.\n",
    "\n",
    "There are a number of methods for determining MTTF/MTBF. \n",
    "\n",
    "A simple method for estimating mean life for a single asset using a _point estimate_ calculated by dividing the _total time on test_ (e.g. operating time to event/ failure of) by the number of events. \n"
   ]
  },
  {
   "cell_type": "markdown",
   "metadata": {
    "slideshow": {
     "slide_type": "fragment"
    }
   },
   "source": [
    "e.g. At Functional Location A there have been 2 replacements of the asset in 4 years. The point estimate for the asset life in this FL is (4 years/ 2 replacements) which is a point estimate MTTF of 2 years. "
   ]
  },
  {
   "cell_type": "markdown",
   "metadata": {
    "slideshow": {
     "slide_type": "fragment"
    }
   },
   "source": [
    "Matters get more complicated when there are multiple assets, equipment is repairable, data is truncated, and there are suspensions as well as failures in the data. \n",
    "\n"
   ]
  },
  {
   "cell_type": "markdown",
   "metadata": {
    "slideshow": {
     "slide_type": "subslide"
    }
   },
   "source": [
    "However even the point estimate method can be challenging to calculate on in-service assets given how asset data are recorded particularly how an end-of-life event is identified. \n",
    "\n",
    "Determining the time from start-of to end-of-life for each instance of functional failure is an arduous, manual process dependent on structured and unstructured data fields and the expertise of the reliability engineer(s). Very little attention is given to how difficult it is to curate meaningful data sets, especially for in-service assets.\n",
    "\n",
    "Point estimates are of limited value. It is important for reliability engineers to understand the statistical distribution of, for example, life or repair, time values. \n",
    "\n",
    "Let's explore why by looking at some data"
   ]
  },
  {
   "cell_type": "code",
   "execution_count": 1,
   "metadata": {
    "slideshow": {
     "slide_type": "slide"
    }
   },
   "outputs": [],
   "source": [
    "# First let's import some packages we need for the analysis that follows\n",
    "\n",
    "import pandas as pd\n",
    "import os \n",
    "dir_path=os.path.abspath('')\n",
    "from reliability.Distributions import Weibull_Distribution #import packages\n",
    "import matplotlib.pyplot as plt\n",
    "import math\n",
    "import datetime as dt"
   ]
  },
  {
   "cell_type": "markdown",
   "metadata": {
    "slideshow": {
     "slide_type": "slide"
    }
   },
   "source": [
    "## Where does the failure event data come from?\n",
    "\n",
    "The short text unstructured field of the maintenance work order (MWO) contains information helpful to infer if a failure event took place. \n",
    "\n",
    "Below are some examples of MWO texts (mix of structured (start with 78W etc) and corrective work).\n",
    "\n",
    "Below 6 years of data on pump 1. (A Water Treatment Effluent Transfer Pump. One of two units). \n"
   ]
  },
  {
   "cell_type": "code",
   "execution_count": 2,
   "metadata": {
    "slideshow": {
     "slide_type": "slide"
    }
   },
   "outputs": [
    {
     "data": {
      "text/html": [
       "<div>\n",
       "<style scoped>\n",
       "    .dataframe tbody tr th:only-of-type {\n",
       "        vertical-align: middle;\n",
       "    }\n",
       "\n",
       "    .dataframe tbody tr th {\n",
       "        vertical-align: top;\n",
       "    }\n",
       "\n",
       "    .dataframe thead th {\n",
       "        text-align: right;\n",
       "    }\n",
       "</style>\n",
       "<table border=\"1\" class=\"dataframe\">\n",
       "  <thead>\n",
       "    <tr style=\"text-align: right;\">\n",
       "      <th></th>\n",
       "      <th>Date</th>\n",
       "      <th>Work Order Description</th>\n",
       "      <th>Work Order Type</th>\n",
       "      <th>Labour cost</th>\n",
       "      <th>Material cost</th>\n",
       "    </tr>\n",
       "  </thead>\n",
       "  <tbody>\n",
       "    <tr>\n",
       "      <th>0</th>\n",
       "      <td>11/10/2012</td>\n",
       "      <td>Lube Report-Alert-check motor</td>\n",
       "      <td>Corrective</td>\n",
       "      <td>100</td>\n",
       "      <td>135</td>\n",
       "    </tr>\n",
       "    <tr>\n",
       "      <th>1</th>\n",
       "      <td>28/03/2013</td>\n",
       "      <td>Replace holed Fan cowl</td>\n",
       "      <td>Corrective</td>\n",
       "      <td>200</td>\n",
       "      <td>130</td>\n",
       "    </tr>\n",
       "    <tr>\n",
       "      <th>2</th>\n",
       "      <td>11/12/2013</td>\n",
       "      <td>Replace oil and breather</td>\n",
       "      <td>Corrective</td>\n",
       "      <td>310</td>\n",
       "      <td>110</td>\n",
       "    </tr>\n",
       "    <tr>\n",
       "      <th>3</th>\n",
       "      <td>23/12/2013</td>\n",
       "      <td>Replace oil and add breather to pump</td>\n",
       "      <td>Corrective</td>\n",
       "      <td>410</td>\n",
       "      <td>110</td>\n",
       "    </tr>\n",
       "    <tr>\n",
       "      <th>4</th>\n",
       "      <td>23/12/2013</td>\n",
       "      <td>CM-Alarm-Check lubrication on motor brgs</td>\n",
       "      <td>Corrective</td>\n",
       "      <td>0</td>\n",
       "      <td>0</td>\n",
       "    </tr>\n",
       "    <tr>\n",
       "      <th>5</th>\n",
       "      <td>13/05/2014</td>\n",
       "      <td>Replace oil on pump</td>\n",
       "      <td>Corrective</td>\n",
       "      <td>465</td>\n",
       "      <td>110</td>\n",
       "    </tr>\n",
       "    <tr>\n",
       "      <th>6</th>\n",
       "      <td>24/06/2014</td>\n",
       "      <td>Replace mech seal and change oil</td>\n",
       "      <td>Corrective</td>\n",
       "      <td>1000</td>\n",
       "      <td>4360</td>\n",
       "    </tr>\n",
       "    <tr>\n",
       "      <th>7</th>\n",
       "      <td>17/09/2014</td>\n",
       "      <td>78W Elec Svce Motor &amp; MCC</td>\n",
       "      <td>Preventative</td>\n",
       "      <td>130</td>\n",
       "      <td>0</td>\n",
       "    </tr>\n",
       "    <tr>\n",
       "      <th>8</th>\n",
       "      <td>27/05/2015</td>\n",
       "      <td>78W Elec Svce Motor &amp; MCC</td>\n",
       "      <td>Preventative</td>\n",
       "      <td>130</td>\n",
       "      <td>0</td>\n",
       "    </tr>\n",
       "    <tr>\n",
       "      <th>9</th>\n",
       "      <td>16/03/2016</td>\n",
       "      <td>78W Elec Svce Motor &amp; MCC</td>\n",
       "      <td>Preventative</td>\n",
       "      <td>135</td>\n",
       "      <td>0</td>\n",
       "    </tr>\n",
       "    <tr>\n",
       "      <th>10</th>\n",
       "      <td>24/11/2016</td>\n",
       "      <td>78W Elec Svce Motor &amp; MCC</td>\n",
       "      <td>Preventative</td>\n",
       "      <td>130</td>\n",
       "      <td>0</td>\n",
       "    </tr>\n",
       "    <tr>\n",
       "      <th>11</th>\n",
       "      <td>22/09/2017</td>\n",
       "      <td>78W Elec Svce Motor &amp; MCC</td>\n",
       "      <td>Preventative</td>\n",
       "      <td>130</td>\n",
       "      <td>0</td>\n",
       "    </tr>\n",
       "    <tr>\n",
       "      <th>12</th>\n",
       "      <td>3/10/2017</td>\n",
       "      <td>Replace fan cowl</td>\n",
       "      <td>Corrective</td>\n",
       "      <td>160</td>\n",
       "      <td>0</td>\n",
       "    </tr>\n",
       "    <tr>\n",
       "      <th>13</th>\n",
       "      <td>8/02/2018</td>\n",
       "      <td>not pumping</td>\n",
       "      <td>Corrective</td>\n",
       "      <td>750</td>\n",
       "      <td>0</td>\n",
       "    </tr>\n",
       "    <tr>\n",
       "      <th>14</th>\n",
       "      <td>28/03/2018</td>\n",
       "      <td>Replace electric motor</td>\n",
       "      <td>Corrective</td>\n",
       "      <td>1800</td>\n",
       "      <td>2995</td>\n",
       "    </tr>\n",
       "    <tr>\n",
       "      <th>15</th>\n",
       "      <td>1/06/2018</td>\n",
       "      <td>78W Elec Svce Motor &amp; MCC</td>\n",
       "      <td>Preventative</td>\n",
       "      <td>230</td>\n",
       "      <td>0</td>\n",
       "    </tr>\n",
       "    <tr>\n",
       "      <th>16</th>\n",
       "      <td>16/11/2018</td>\n",
       "      <td>Fab/ mod pump inlet spool</td>\n",
       "      <td>Corrective</td>\n",
       "      <td>1170</td>\n",
       "      <td>0</td>\n",
       "    </tr>\n",
       "    <tr>\n",
       "      <th>17</th>\n",
       "      <td>18/03/2019</td>\n",
       "      <td>78W Elec Svce Motor &amp; MCC</td>\n",
       "      <td>Preventative</td>\n",
       "      <td>220</td>\n",
       "      <td>0</td>\n",
       "    </tr>\n",
       "    <tr>\n",
       "      <th>18</th>\n",
       "      <td>10/04/2019</td>\n",
       "      <td>Replace pump</td>\n",
       "      <td>Corrective</td>\n",
       "      <td>1300</td>\n",
       "      <td>10270</td>\n",
       "    </tr>\n",
       "    <tr>\n",
       "      <th>19</th>\n",
       "      <td>23/04/2019</td>\n",
       "      <td>mod pump inlet spool</td>\n",
       "      <td>Corrective</td>\n",
       "      <td>50</td>\n",
       "      <td>10</td>\n",
       "    </tr>\n",
       "    <tr>\n",
       "      <th>20</th>\n",
       "      <td>6/06/2019</td>\n",
       "      <td>78W Elec Svce Motor &amp; MCC</td>\n",
       "      <td>Preventative</td>\n",
       "      <td>200</td>\n",
       "      <td>0</td>\n",
       "    </tr>\n",
       "    <tr>\n",
       "      <th>21</th>\n",
       "      <td>26/05/2020</td>\n",
       "      <td>104W Elec Svce Motor &amp; MCC</td>\n",
       "      <td>Preventative</td>\n",
       "      <td>200</td>\n",
       "      <td>0</td>\n",
       "    </tr>\n",
       "    <tr>\n",
       "      <th>22</th>\n",
       "      <td>11/06/2020</td>\n",
       "      <td>Seal leaking</td>\n",
       "      <td>Corrective</td>\n",
       "      <td>1400</td>\n",
       "      <td>0</td>\n",
       "    </tr>\n",
       "    <tr>\n",
       "      <th>23</th>\n",
       "      <td>30/06/2020</td>\n",
       "      <td>Replace pump</td>\n",
       "      <td>Corrective</td>\n",
       "      <td>1290</td>\n",
       "      <td>10270</td>\n",
       "    </tr>\n",
       "    <tr>\n",
       "      <th>24</th>\n",
       "      <td>27/08/2020</td>\n",
       "      <td>Mech seal leaking</td>\n",
       "      <td>Corrective</td>\n",
       "      <td>1300</td>\n",
       "      <td>2110</td>\n",
       "    </tr>\n",
       "    <tr>\n",
       "      <th>25</th>\n",
       "      <td>9/10/2020</td>\n",
       "      <td>pump casing holed</td>\n",
       "      <td>Corrective</td>\n",
       "      <td>1530</td>\n",
       "      <td>0</td>\n",
       "    </tr>\n",
       "    <tr>\n",
       "      <th>26</th>\n",
       "      <td>19/10/2020</td>\n",
       "      <td>Leaking Mechanical Seal</td>\n",
       "      <td>Corrective</td>\n",
       "      <td>2300</td>\n",
       "      <td>2050</td>\n",
       "    </tr>\n",
       "  </tbody>\n",
       "</table>\n",
       "</div>"
      ],
      "text/plain": [
       "          Date                    Work Order Description Work Order Type  Labour cost  Material cost\n",
       "0   11/10/2012            Lube Report-Alert-check motor       Corrective          100            135\n",
       "1   28/03/2013                    Replace holed Fan cowl      Corrective          200            130\n",
       "2   11/12/2013                  Replace oil and breather      Corrective          310            110\n",
       "3   23/12/2013     Replace oil and add breather to pump       Corrective          410            110\n",
       "4   23/12/2013  CM-Alarm-Check lubrication on motor brgs      Corrective            0              0\n",
       "5   13/05/2014                      Replace oil on pump       Corrective          465            110\n",
       "6   24/06/2014         Replace mech seal and change oil       Corrective         1000           4360\n",
       "7   17/09/2014                78W Elec Svce Motor & MCC     Preventative          130              0\n",
       "8   27/05/2015                 78W Elec Svce Motor & MCC    Preventative          130              0\n",
       "9   16/03/2016                78W Elec Svce Motor & MCC     Preventative          135              0\n",
       "10  24/11/2016                 78W Elec Svce Motor & MCC    Preventative          130              0\n",
       "11  22/09/2017                78W Elec Svce Motor & MCC     Preventative          130              0\n",
       "12   3/10/2017                          Replace fan cowl      Corrective          160              0\n",
       "13   8/02/2018                               not pumping      Corrective          750              0\n",
       "14  28/03/2018                    Replace electric motor      Corrective         1800           2995\n",
       "15   1/06/2018                78W Elec Svce Motor & MCC     Preventative          230              0\n",
       "16  16/11/2018                Fab/ mod pump inlet spool       Corrective         1170              0\n",
       "17  18/03/2019                78W Elec Svce Motor & MCC     Preventative          220              0\n",
       "18  10/04/2019                            Replace pump        Corrective         1300          10270\n",
       "19  23/04/2019                     mod pump inlet spool       Corrective           50             10\n",
       "20   6/06/2019                78W Elec Svce Motor & MCC     Preventative          200              0\n",
       "21  26/05/2020               104W Elec Svce Motor & MCC     Preventative          200              0\n",
       "22  11/06/2020                              Seal leaking      Corrective         1400              0\n",
       "23  30/06/2020                              Replace pump      Corrective         1290          10270\n",
       "24  27/08/2020                         Mech seal leaking      Corrective         1300           2110\n",
       "25   9/10/2020                         pump casing holed      Corrective         1530              0\n",
       "26  19/10/2020                   Leaking Mechanical Seal      Corrective         2300           2050"
      ]
     },
     "execution_count": 2,
     "metadata": {},
     "output_type": "execute_result"
    }
   ],
   "source": [
    "#First we import some data as a csv and look at it\n",
    "data_path = os.path.join(dir_path, '../test_data/W1-2_pump1MWO.csv')\n",
    "pmp1 = pd.read_csv(data_path)\n",
    "pd.set_option(\"display.max_rows\",None)\n",
    "pmp1"
   ]
  },
  {
   "cell_type": "markdown",
   "metadata": {
    "slideshow": {
     "slide_type": "slide"
    }
   },
   "source": [
    "### Activity on Menti - Determine point estimate MTBF for Pump 1\n",
    "\n",
    "\n",
    "</br>\n",
    "<div style=\"margin: 8px; padding: 8px; background-color: yellow;\">\n",
    "    <div style=\"text-align:center; margin-bottom: 8px;\">\n",
    "        <a href=\"\" style=\"color: black; font-weight: bold;\">Go to Menti</a>\n",
    "    </div>\n",
    "    <li> How many end of life events on Pump 1 (there will likely be a range of answers here and that's ok) </li>\n",
    " \n",
    "</div>\n",
    "\n"
   ]
  },
  {
   "cell_type": "markdown",
   "metadata": {
    "slideshow": {
     "slide_type": "subslide"
    }
   },
   "source": [
    "\n",
    "Use the code below to determine a point estimate for the mean life (in hours for this pump). Change the number of events to what you have determined."
   ]
  },
  {
   "cell_type": "code",
   "execution_count": 3,
   "metadata": {
    "slideshow": {
     "slide_type": "fragment"
    }
   },
   "outputs": [],
   "source": [
    "def get_point_estimate(start_date, end_date, number_of_events: int) -> None:\n",
    "    ''' Computes point estimate for static time-on-test'''\n",
    "    \n",
    "    delta = end_date - start_date\n",
    "    time_on_test = delta.days\n",
    "    \n",
    "    mtbf_pump_1=time_on_test/number_of_events\n",
    "    print(f'MTBF of {time_on_test} days on test with {number_of_events} events: {mtbf_pump_1:0.1f} days')\n",
    "    return time_on_test\n",
    "    \n"
   ]
  },
  {
   "cell_type": "code",
   "execution_count": 4,
   "metadata": {
    "slideshow": {
     "slide_type": "fragment"
    }
   },
   "outputs": [
    {
     "name": "stdout",
     "output_type": "stream",
     "text": [
      "MTBF of 2930 days on test with 2 events: 1465.0 days\n"
     ]
    }
   ],
   "source": [
    "    # Here we'll change the number of events and see the impact on the point estimate MTBF\n",
    "\n",
    "events = 2 # Enter estimated number of events\n",
    "d0 = dt.date(2012, 10, 11)\n",
    "d1 = dt.date(2020, 10, 19)\n",
    "time_on_test=get_point_estimate(start_date=d0, end_date=d1, number_of_events=events)\n"
   ]
  },
  {
   "cell_type": "code",
   "execution_count": 5,
   "metadata": {
    "slideshow": {
     "slide_type": "skip"
    }
   },
   "outputs": [],
   "source": [
    "\n",
    "#point estimate - used for reporting later\n",
    "mtbf_pointest_pump_1 = int(time_on_test/2)\n",
    "mtbf_pointest_pump_1_days = int(mtbf_pointest_pump_1/24)\n"
   ]
  },
  {
   "cell_type": "markdown",
   "metadata": {
    "slideshow": {
     "slide_type": "slide"
    }
   },
   "source": [
    "### What  if we use the computer to identify all replacement events?\n",
    "\n"
   ]
  },
  {
   "cell_type": "code",
   "execution_count": 6,
   "metadata": {
    "slideshow": {
     "slide_type": "fragment"
    }
   },
   "outputs": [
    {
     "data": {
      "text/html": [
       "<div>\n",
       "<style scoped>\n",
       "    .dataframe tbody tr th:only-of-type {\n",
       "        vertical-align: middle;\n",
       "    }\n",
       "\n",
       "    .dataframe tbody tr th {\n",
       "        vertical-align: top;\n",
       "    }\n",
       "\n",
       "    .dataframe thead th {\n",
       "        text-align: right;\n",
       "    }\n",
       "</style>\n",
       "<table border=\"1\" class=\"dataframe\">\n",
       "  <thead>\n",
       "    <tr style=\"text-align: right;\">\n",
       "      <th></th>\n",
       "      <th>Date</th>\n",
       "      <th>Work Order Description</th>\n",
       "      <th>Work Order Type</th>\n",
       "      <th>Labour cost</th>\n",
       "      <th>Material cost</th>\n",
       "    </tr>\n",
       "  </thead>\n",
       "  <tbody>\n",
       "    <tr>\n",
       "      <th>1</th>\n",
       "      <td>28/03/2013</td>\n",
       "      <td>Replace holed Fan cowl</td>\n",
       "      <td>Corrective</td>\n",
       "      <td>200</td>\n",
       "      <td>130</td>\n",
       "    </tr>\n",
       "    <tr>\n",
       "      <th>2</th>\n",
       "      <td>11/12/2013</td>\n",
       "      <td>Replace oil and breather</td>\n",
       "      <td>Corrective</td>\n",
       "      <td>310</td>\n",
       "      <td>110</td>\n",
       "    </tr>\n",
       "    <tr>\n",
       "      <th>3</th>\n",
       "      <td>23/12/2013</td>\n",
       "      <td>Replace oil and add breather to pump</td>\n",
       "      <td>Corrective</td>\n",
       "      <td>410</td>\n",
       "      <td>110</td>\n",
       "    </tr>\n",
       "    <tr>\n",
       "      <th>5</th>\n",
       "      <td>13/05/2014</td>\n",
       "      <td>Replace oil on pump</td>\n",
       "      <td>Corrective</td>\n",
       "      <td>465</td>\n",
       "      <td>110</td>\n",
       "    </tr>\n",
       "    <tr>\n",
       "      <th>6</th>\n",
       "      <td>24/06/2014</td>\n",
       "      <td>Replace mech seal and change oil</td>\n",
       "      <td>Corrective</td>\n",
       "      <td>1000</td>\n",
       "      <td>4360</td>\n",
       "    </tr>\n",
       "    <tr>\n",
       "      <th>12</th>\n",
       "      <td>3/10/2017</td>\n",
       "      <td>Replace fan cowl</td>\n",
       "      <td>Corrective</td>\n",
       "      <td>160</td>\n",
       "      <td>0</td>\n",
       "    </tr>\n",
       "    <tr>\n",
       "      <th>14</th>\n",
       "      <td>28/03/2018</td>\n",
       "      <td>Replace electric motor</td>\n",
       "      <td>Corrective</td>\n",
       "      <td>1800</td>\n",
       "      <td>2995</td>\n",
       "    </tr>\n",
       "    <tr>\n",
       "      <th>18</th>\n",
       "      <td>10/04/2019</td>\n",
       "      <td>Replace pump</td>\n",
       "      <td>Corrective</td>\n",
       "      <td>1300</td>\n",
       "      <td>10270</td>\n",
       "    </tr>\n",
       "    <tr>\n",
       "      <th>23</th>\n",
       "      <td>30/06/2020</td>\n",
       "      <td>Replace pump</td>\n",
       "      <td>Corrective</td>\n",
       "      <td>1290</td>\n",
       "      <td>10270</td>\n",
       "    </tr>\n",
       "  </tbody>\n",
       "</table>\n",
       "</div>"
      ],
      "text/plain": [
       "          Date                 Work Order Description Work Order Type  Labour cost  Material cost\n",
       "1   28/03/2013                 Replace holed Fan cowl      Corrective          200            130\n",
       "2   11/12/2013               Replace oil and breather      Corrective          310            110\n",
       "3   23/12/2013  Replace oil and add breather to pump       Corrective          410            110\n",
       "5   13/05/2014                   Replace oil on pump       Corrective          465            110\n",
       "6   24/06/2014      Replace mech seal and change oil       Corrective         1000           4360\n",
       "12   3/10/2017                       Replace fan cowl      Corrective          160              0\n",
       "14  28/03/2018                 Replace electric motor      Corrective         1800           2995\n",
       "18  10/04/2019                         Replace pump        Corrective         1300          10270\n",
       "23  30/06/2020                           Replace pump      Corrective         1290          10270"
      ]
     },
     "execution_count": 6,
     "metadata": {},
     "output_type": "execute_result"
    }
   ],
   "source": [
    "pmp1_replace=pmp1[pmp1[\"Work Order Description\"].str.contains(\"Replace\" or \"replace\")]\n",
    "pmp1_replace\n"
   ]
  },
  {
   "cell_type": "code",
   "execution_count": 7,
   "metadata": {
    "slideshow": {
     "slide_type": "fragment"
    }
   },
   "outputs": [
    {
     "name": "stdout",
     "output_type": "stream",
     "text": [
      "MTBF from 9 MWO records containing string Replace: 325.6 days\n"
     ]
    }
   ],
   "source": [
    "mtbf_string=time_on_test/len(pmp1_replace)\n",
    "print(f'MTBF from {len(pmp1_replace)} MWO records containing string Replace: {mtbf_string:0.1f} days')\n",
    "\n"
   ]
  },
  {
   "cell_type": "code",
   "execution_count": 8,
   "metadata": {
    "slideshow": {
     "slide_type": "skip"
    }
   },
   "outputs": [],
   "source": [
    "#Estimate based on replace terms - used for reporting later\n",
    "mtbf_string=int(mtbf_string)\n",
    "mtbf_string_days=int(mtbf_string/24)"
   ]
  },
  {
   "cell_type": "markdown",
   "metadata": {
    "slideshow": {
     "slide_type": "slide"
    }
   },
   "source": [
    "### Let's apply some business rules\n",
    "\n",
    "Let us assume that only records that show a pump replacement with a significant cost (>$10,000) are an end of life event for the pump. \n",
    "\n",
    "There is no right or wrong providing there is consistency in the classification of this over time and across people i.e. a business rule."
   ]
  },
  {
   "cell_type": "code",
   "execution_count": 9,
   "metadata": {
    "slideshow": {
     "slide_type": "fragment"
    }
   },
   "outputs": [],
   "source": [
    "\n",
    "# The time from start of data recording (12/10/2010) to the first pump replacement (10/04/2017) is\n",
    "from datetime import datetime \n",
    "# dates in string format\n",
    "str_d1 = '2010/10/12'\n",
    "str_d2 = '2017/4/10'\n",
    "str_d3 = '2018/7/1'\n",
    "\n",
    "# convert string to date object\n",
    "d1 = datetime.strptime(str_d1, \"%Y/%m/%d\")\n",
    "d2 = datetime.strptime(str_d2, \"%Y/%m/%d\")\n",
    "d3 = datetime.strptime(str_d3, \"%Y/%m/%d\")\n",
    "\n",
    "# difference between dates in timedelta\n",
    "delta_d2d1 = d2 - d1\n",
    "delta_d3d2 = d3 - d2\n",
    "\n",
    "#calculate average\n",
    "averagePump1MTBFdays = int((delta_d3d2.days + delta_d2d1.days)/2)\n",
    "averagePunmp1MTBFhrs = averagePump1MTBFdays*24\n",
    "\n"
   ]
  },
  {
   "cell_type": "markdown",
   "metadata": {
    "slideshow": {
     "slide_type": "slide"
    }
   },
   "source": [
    "### Now let's compare different values for the point estimate of MTBF"
   ]
  },
  {
   "cell_type": "code",
   "execution_count": 10,
   "metadata": {
    "slideshow": {
     "slide_type": "fragment"
    }
   },
   "outputs": [
    {
     "name": "stdout",
     "output_type": "stream",
     "text": [
      "Time to first pump replacement event is more than 2372 days\n",
      "Time to second pump replacemente event is 447 days\n",
      "The average of these two numbers is 1409 days or 33816 hours\n",
      "This compares with the point estimate of 61 days or 1465 hours\n",
      "Finally the estimate if we rely on the computer to find records with the word Replace is 13 days or 325 hours\n"
     ]
    }
   ],
   "source": [
    "\n",
    "print(f'Time to first pump replacement event is more than {delta_d2d1.days} days')\n",
    "print(f'Time to second pump replacemente event is {delta_d3d2.days} days')\n",
    "print(f'The average of these two numbers is {averagePump1MTBFdays} days or {averagePunmp1MTBFhrs} hours')\n",
    "print(f'This compares with the point estimate of {mtbf_pointest_pump_1_days} days or {mtbf_pointest_pump_1} hours' )\n",
    "print(f'Finally the estimate if we rely on the computer to find records with the word Replace is {mtbf_string_days} days or {mtbf_string} hours')"
   ]
  },
  {
   "cell_type": "markdown",
   "metadata": {
    "slideshow": {
     "slide_type": "slide"
    }
   },
   "source": [
    "## Introduce failure data Weibull distributions\n",
    "\n",
    "Let us look at the importance of understanding the distribution of our time-to-event data.\n",
    "\n",
    "Because we have multiple lives on each equipment or many similar items each with their own life, we have range of values. We represent this with a frequency histogram from which a probability density function(PDF) can be derived. \n",
    "\n",
    "Let's simulate a Probability Density Function for a Weibull distribution.\n",
    "\n",
    "The probability density function $f(t)$ of the 2-parameter Weibull distribution is defined for the random variable $T$, which is the lifetime of a component or system (i.e., where $P[T=t]=f(t)$) is <center>\n",
    " $f(t)=\\frac{\\beta}{\\eta}(\\frac{t}{\\eta})^{\\beta -1}e^{-(\\frac{t}{\\eta})^{\\beta}}$ <center>\n",
    "\n",
    "For reliability analysis, $t$ is some measure of usage (e.g., total operating or running time) and $\\beta, \\eta$ are “shape” and “scale” parameters.\n",
    "\n",
    "The equation relating $\\eta$ to the mean value e.g. MTTF is <center>$MTTF= {\\eta} * {\\Gamma}(1 + \\frac{1}{\\beta}) $</center>\n"
   ]
  },
  {
   "cell_type": "markdown",
   "metadata": {
    "slideshow": {
     "slide_type": "subslide"
    }
   },
   "source": [
    "Reminder we using the open-source package [reliability](https://reliability.readthedocs.io/en/latest/Quickstart%20for%20reliability.html ) for statistical data life analysis using Weibull distributions throughout this course. \n",
    "\n",
    "This avoids the need for commericial packages such as Availability Workbench, Weibull++, APM, etc."
   ]
  },
  {
   "cell_type": "markdown",
   "metadata": {
    "slideshow": {
     "slide_type": "slide"
    }
   },
   "source": [
    "### Create PDFs for Weibull distribution different shapes\n",
    "\n",
    "We are going to start by selecting a value for the mean of the distribution (assume this is in days) which is entered as the $\\eta$ value in the Weibull PDF equation."
   ]
  },
  {
   "cell_type": "code",
   "execution_count": 11,
   "metadata": {
    "slideshow": {
     "slide_type": "fragment"
    },
    "tags": []
   },
   "outputs": [],
   "source": [
    "# Select a value for the mean time to failure for use in the distribution\n",
    "mttf = 50 \n",
    "\n"
   ]
  },
  {
   "cell_type": "markdown",
   "metadata": {
    "slideshow": {
     "slide_type": "slide"
    }
   },
   "source": [
    "### Visualising the behaviour behind different distribution with same mean\n",
    "\n",
    "We create distributions with the same scale parameter as our normal example above, but use different shape parameters. The distribution include:\n",
    "\n",
    "1. Left skewed distribution (most of the data on the right hand side, mean on the left side of the curve; beta = 5)\n",
    "2. Right skewed data (most of the data on the left hand side, mean on the right side; beta = 1.5)\n",
    "3. Exponential (beta = 1)\n",
    "4. Early life failures (beta = 0.7)\n",
    "\n"
   ]
  },
  {
   "cell_type": "code",
   "execution_count": 12,
   "metadata": {},
   "outputs": [],
   "source": [
    "# Set up to generate different distributions by varying the value of beta in the Weibull PDF equation\n",
    "distributions = {\n",
    "    'normal': {'beta': 3.5},\n",
    "    'left skewed': {'beta': 5},\n",
    "    'right skewed': {'beta': 1.5},\n",
    "    'exponential (random)': {'beta': 1},\n",
    "    'early life failures': {'beta': 0.7}\n",
    "}\n"
   ]
  },
  {
   "cell_type": "markdown",
   "metadata": {
    "slideshow": {
     "slide_type": "slide"
    }
   },
   "source": [
    "### View the different PDFs"
   ]
  },
  {
   "cell_type": "code",
   "execution_count": 13,
   "metadata": {
    "scrolled": true,
    "slideshow": {
     "slide_type": "fragment"
    }
   },
   "outputs": [
    {
     "data": {
      "image/png": "[encoded data removed]",
      "text/plain": [
       "<Figure size 432x288 with 1 Axes>"
      ]
     },
     "metadata": {
      "needs_background": "light"
     },
     "output_type": "display_data"
    }
   ],
   "source": [
    "legend_keys = []\n",
    "for dist_name, dist_params in distributions.items():\n",
    "    alpha = mttf/(math.gamma(1+(1/dist_params['beta'])))\n",
    "    dist = Weibull_Distribution(alpha=alpha, beta=dist_params['beta'])\n",
    "    # Get alpha and beta values for legend\n",
    "    legend_keys.append(\n",
    "        f'{dist_name} (a:{alpha:0.1f}) (b:{dist_params[\"beta\"]:0.2f})')\n",
    "    dist.PDF()\n",
    "plt.title(f'Characteristics of PDFs with the same MTTF value ({50})')\n",
    "plt.xlim((1,300))\n",
    "plt.legend(legend_keys)\n",
    "plt.show()\n"
   ]
  },
  {
   "cell_type": "markdown",
   "metadata": {
    "slideshow": {
     "slide_type": "notes"
    }
   },
   "source": [
    "``` {toggle}\n",
    "\n",
    "* See how different the PDF shapes are. \n",
    "* Knowing the PDF of your failure times (or repair distributions) is important input to decisions. * As reliability engineers we need this in order to establish appropriate maintenance strategies.\n",
    "* Look at the normal distributed PDF (shown in blue). We expect that 1/2 of the population will have an end-of-life event before 50 days and 1/2 will last beyond this.\n",
    "* Compare this with a set of data with early life failure behaviour (shown in purple) for which beta=0.7. Here we can see that a much greater proportion of the population willfail before 50 days. \n",
    "* We can see that the only PDF for which the eta value equals the mean value is the exponential distribution (red line). Colloquially we describe samples with exponentially distributed time to event times as being randomly distributed.\n",
    "* We need to know if the failure modes of interest are exhibiting wear-in, wear-out, or random behaviour _the beta value_ when setting our maintenance strategy.\n",
    "* We need to know the _eta_ or _MTTF_ value when setting the timing for certain strategies such as fixed interval repair or replacement, failure finding, inspections and condition monitoring intervals.\n",
    " \n",
    "```"
   ]
  },
  {
   "cell_type": "markdown",
   "metadata": {
    "slideshow": {
     "slide_type": "slide"
    }
   },
   "source": [
    "## Estimating reliability measures\n",
    "\n",
    "* Where do these time to event data come from?\n",
    "\n",
    "* For those working on the in-service phase of asset life, these data often come from maintenance work orders (like those shown for the Effluent pump earlier)\n",
    "\n",
    "* Let us take a quick look at how to take data from MWO through plotting Weibull distributions from which we can estimate parameters\n",
    "\n",
    "The challenges engineers face in acquiring data to support reliability analysis are illustrated in the figure below. This figure identifies common steps that are performed each time an engineer wants to calculate a reliability measure (for example mean-time-to-failure) from semi-structured data held in an organisation's computerised maintenance management system (CMMS). We display this process as six stages: i) extract, ii) filter (structured), iii) filter (unstructured), iv) transform, v) compute and vi) verify."
   ]
  },
  {
   "cell_type": "markdown",
   "metadata": {
    "slideshow": {
     "slide_type": "slide"
    }
   },
   "source": [
    "## Steps in processing maintenance work orders for reliability analysis\n",
    "\n",
    "Consider all the steps, data versions and meta-data produced when processing MWOs to identify those about end-of-lfe events?\n",
    "\n",
    "This is just a quick look at the steps involved to demonstrate how complex this is for each reliability engineer.\n",
    "\n"
   ]
  },
  {
   "cell_type": "markdown",
   "metadata": {
    "slideshow": {
     "slide_type": "subslide"
    }
   },
   "source": [
    "<div style=\"display: flex; justify-content:center\">\n",
    "    <img src=\"images/Swimlanes.png\" alt=\"Swimlane diagram showing steps in processing of MWO to determine MTBF\" style=\"width: 50%\" />\n",
    "</div>\n",
    "\n",
    "*Figure to be published in Hodkiewicz, Bikaun, Stewart (2022) RelOps - Disciplined practice for reliability engineering analysis, WCEAM Oct 2022*"
   ]
  },
  {
   "cell_type": "markdown",
   "metadata": {
    "slideshow": {
     "slide_type": "slide"
    }
   },
   "source": [
    "## How to interpret Weibull plots once you have the data\n",
    "\n",
    "* Reliability engineers do not normally look at PDFs, they look at _Weibull plots_ or _Cumulative Failure Distribution (CDF) plots_\n",
    "\n",
    "* PDFs, CDFs and Weibull plots are different ways of visualising the same data set.\n",
    "\n",
    "* A Weibull plot is on a log-log scale, with Cumulative Failure on the Y-axis and Time on the X-axis. \n"
   ]
  },
  {
   "cell_type": "code",
   "execution_count": 14,
   "metadata": {
    "slideshow": {
     "slide_type": "fragment"
    }
   },
   "outputs": [],
   "source": [
    "from reliability.Fitters import Fit_Weibull_2P\n",
    "from reliability.Probability_plotting import plot_points"
   ]
  },
  {
   "cell_type": "code",
   "execution_count": 15,
   "metadata": {
    "slideshow": {
     "slide_type": "slide"
    }
   },
   "outputs": [
    {
     "data": {
      "image/png": "[encoded data removed]",
      "text/plain": [
       "<Figure size 648x648 with 2 Axes>"
      ]
     },
     "metadata": {
      "needs_background": "light"
     },
     "output_type": "display_data"
    }
   ],
   "source": [
    "# When we follow this diagram, either manually or with help from code, we aim to produce Weibull plots as follows\n",
    "\n",
    "# creates the distribution object\n",
    "dist = Weibull_Distribution(alpha=30, beta=2)\n",
    "# draws 20 samples from the distribution. Seeded for repeatability\n",
    "data = dist.random_samples(20, seed=42)\n",
    "plt.subplot(121)\n",
    "# fits a Weibull distribution to the data and generates the probability plot\n",
    "fit = Fit_Weibull_2P(failures=data, print_results=False)\n",
    "plt.subplot(122)\n",
    "# uses the distribution object from Fit_Weibull_2P and plots the survival function\n",
    "fit.distribution.SF(label='fitted distribution')\n",
    "# plots the survival function of the original distribution\n",
    "#dist.SF(label='original distribution', linestyle='--')\n",
    "# overlays the original data on the survival function\n",
    "plot_points(failures=data, func='SF')\n",
    "plt.legend()\n",
    "plt.show()"
   ]
  },
  {
   "cell_type": "markdown",
   "metadata": {
    "slideshow": {
     "slide_type": "slide"
    }
   },
   "source": [
    "Let us discuss how to interpret these plots ....\n",
    "\n",
    "The plot of the left is called a Weibull plot. The parameters of the blue line fit to these data points in this log-log format allow us to estimate 'eta' and 'beta' values also known as scale and shape parameters.\n",
    "\n",
    "These parameters have special meaning for reliability engineers as they tell us something about the mean life of the asset and the failure behaviour (wear in (early life), wear out or random).\n",
    "\n",
    "The plot on the right is a survival function. \n",
    "\n",
    "Both of these plots and more like this are available on https://reliability.readthedocs.io/en/latest/Quickstart%20for%20reliability.html \n",
    "\n",
    "We have generated both of these plots with simulated data. Later in this program we hope to use the same code to generate these plots on data coming from your MWOs. \n",
    "\n"
   ]
  },
  {
   "cell_type": "markdown",
   "metadata": {
    "slideshow": {
     "slide_type": "slide"
    }
   },
   "source": [
    "## Test yourself. \n",
    "\n",
    "</br>\n",
    "<div style=\"margin: 8px; padding: 8px; background-color: yellow;\">\n",
    "    <div style=\"text-align:center; margin-bottom: 8px;\">\n",
    "        <a href=\"\" style=\"color: black; font-weight: bold;\">Go to Menti</a>\n",
    "    </div>\n",
    "    <li>Look at the Weibull figure above. Assume time is in days.</li>\n",
    "    <li>1. Does this data set represent a wear in, wear out or random failure process?</li>\n",
    "    <li>2. How many assets lasted less than 10 days? </li>\n",
    "    <li>3. What is the time at which 50% of the sample has failed (median time)? </li>\n",
    "    <li>4. We are 95% confident that the median is between what values (approximately)? </li>\n",
    "    <li>5. What proportion of the sample lasted over 45 days? </li>\n",
    " </div>\n",
    "\n",
    "\n"
   ]
  },
  {
   "cell_type": "markdown",
   "metadata": {
    "slideshow": {
     "slide_type": "slide"
    }
   },
   "source": [
    "## Wrap up \n",
    "\n",
    "Preparation for next week is to look at the W2 Notebook and videos listed in W0 notebook if you have not already done so.\n"
   ]
  }
 ],
 "metadata": {
  "celltoolbar": "Slideshow",
  "kernelspec": {
   "display_name": "Python 3 (ipykernel)",
   "language": "python",
   "name": "python3"
  },
  "language_info": {
   "codemirror_mode": {
    "name": "ipython",
    "version": 3
   },
   "file_extension": ".py",
   "mimetype": "text/x-python",
   "name": "python",
   "nbconvert_exporter": "python",
   "pygments_lexer": "ipython3",
   "version": "3.10.4"
  },
  "vscode": {
   "interpreter": {
    "hash": "d2d691ec8cfe3a85f184d6edc3cbf3149ce1af6485f068e96417c3dcb7ff8547"
   }
  }
 },
 "nbformat": 4,
 "nbformat_minor": 4
}
