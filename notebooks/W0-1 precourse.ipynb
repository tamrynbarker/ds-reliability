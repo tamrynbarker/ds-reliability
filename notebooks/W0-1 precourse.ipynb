{
 "cells": [
  {
   "cell_type": "markdown",
   "metadata": {},
   "source": [
    "# W0-1 Precourse Notebook"
   ]
  },
  {
   "cell_type": "markdown",
   "metadata": {},
   "source": [
    "## About this course\n",
    "\n",
    "Reliability analysis on in-service assets uses well-established methods to, for example, determine mean-time-to-failure (MTTF) estimates or identify failure modes. However, the data inputs to these calculations depend on how the raw data from maintenance repair records has been processed. Processes to extract and clean raw maintenance data are often ad hoc and performed differently by each engineer. As a result calculations for asset reliability measures and identification of historical events and failure modes are difficult to replicate. Currently, the process is manual, time-consuming and not scalable. \n",
    "\n",
    "The goal of this course is to enable practicing reliablity engineers to use state of the art, open-source code-based tools, to interrogate their maintenance work order data and extract MTBF values and failure mode information."
   ]
  },
  {
   "cell_type": "markdown",
   "metadata": {},
   "source": [
    "## Audience for this course\n",
    "\n",
    "Target participants are involved in maintenance strategy development, day-to-day reliability analysis of existing plant, reliability improvement efforts, or maintenance management metrics.\n",
    "\n",
    "Participants need to have 1) an understanding of how Weibull parameters are used in characerising failure behaviour (wear in, wear out and random) and for settting intervals in maintenance strategy development and 2) be able to understand simple characterisation of statistical distributions such as mean and variance. \n",
    "\n",
    "The material in this course can be applied to all asset classes: rotating equipment, mobile, linear, electrical and computing infrastructure so this is open to all engineering disciplines working in reliability engineering roles.\n",
    "\n",
    "All the materialso in this course are in the form of Jupyter notebooks. These are comprised of text and Python code blocks. The code blocks are used to demonstrate the data processing and calculations, there is no need to be able to code in Python yourself. Participants must be able to open and run a Jupyter notebook however and this must be tested and confirmed before the course starts."
   ]
  },
  {
   "cell_type": "markdown",
   "metadata": {},
   "source": [
    "## Learning outcomes \n",
    "\n",
    "At the end of this course participants should be able to:\n",
    "\n",
    "1. Estimate the parameters for a Weibull distribution on the life of an asset from maintenance work order data.\n",
    "2. Determine key failure modes for an asset from maintenance work order data.\n",
    "3. Describe the impact of pre-processing decisions on outputs."
   ]
  },
  {
   "cell_type": "markdown",
   "metadata": {},
   "source": [
    "## Timetable for the course\n",
    "\n",
    "| Day | Subject | Date |\n",
    "| :- | :- | :- |\n",
    "| 1 | Introduction and contextualisation | Wednesday 20th July 1-5pm |\n",
    "| 2 | Determining reliability estimates at scale | Wednesday 27th July 1-5pm  |\n",
    "| 3 | Technical Information extraction | Wednesday 3rd August 1-5pm |\n",
    "| 4 | Technical information extraction (hands on) | Wednesday 10th August 1-5pm |\n",
    "| 5 | Interpreting your own data| Wednesday 17th August 1-5pm |\n",
    "| 6 | Presenting your data-driven results | Wednesday 24th August 1-5pm |\n"
   ]
  },
  {
   "cell_type": "markdown",
   "metadata": {},
   "source": [
    "## Instructions for accessing GIT and opening the notebooks\n",
    "\n",
    "This will be managed and checked by CORE Skills ahead of the course. Any questions should be directed by email to Tamryn Barker at tamryn@corehub.com.au.\n"
   ]
  },
  {
   "cell_type": "markdown",
   "metadata": {},
   "source": [
    "## Pre-watch videos\n",
    "\n",
    "There are two 10 minute videos that we recommend you pre-watch before and/or during the course. These two videos explain why the two approaches we cover in this course (estimating the parameters for a Weibull distribution on the life of an asset from maintenance work order data, and determining key failure modes for an asset from maintenance work order data) are necessary and how the pipelines work. \n",
    "\n",
    "\n",
    "Semi-automated MTBF estimates __[link](https://www.youtube.com/watch?v=E2Rs4fD7l04)__\n",
    "\n",
    "Extracting Failure Mode data: __[link](https://www.youtube.com/watch?v=ddiX2L0GbSM)__\n",
    "\n",
    "For those interested there is a technical paper on the MTBF estimates work available for download at __[link](http://www.papers.phmsociety.org/index.php/phme/article/view/2950)__\n",
    "\n",
    "\n"
   ]
  },
  {
   "cell_type": "markdown",
   "metadata": {},
   "source": [
    "\n",
    "## Acknowledgement of use of the Reliability package\n",
    "\n",
    "\n",
    "We acknowledge use of this code from the _reliability - A Python library for Reliability engineering_ web page at https://reliability.readthedocs.io/en/latest/. The _reliability_ package is licensed under the LGPLv3. Under the LGPLv3 license, the use of reliability is FREE and unrestricted for both individuals and commercial users. We have made use of code snippets from this _reliability_ package through out this course. The GitHub page for this is https://github.com/MatthewReid854/reliability \n"
   ]
  },
  {
   "cell_type": "markdown",
   "metadata": {},
   "source": []
  },
  {
   "cell_type": "markdown",
   "metadata": {},
   "source": [
    "## Mandatory exercise to check Python-Jupyter installation\n",
    "\n",
    "Run this test code - it take sbaout 10 seconds to run the first time. It should produce a plot with the title Weibull distribution and look like a normally distributed probability density function.\n",
    "\n",
    "The code is written in Python code\n",
    "Press the play arrow on the left to execute this code.\n",
    "First we import some packages then we run the code.\n",
    "\n",
    "The # symbol indicates a comment."
   ]
  },
  {
   "cell_type": "markdown",
   "metadata": {},
   "source": [
    "## Import packages"
   ]
  },
  {
   "cell_type": "code",
   "execution_count": 2,
   "metadata": {},
   "outputs": [],
   "source": [
    "import numpy as np\n",
    "import matplotlib.pyplot as plt\n",
    "import math\n",
    "import scipy\n",
    "from reliability.Distributions import Weibull_Distribution\n",
    "from scipy.stats import norm"
   ]
  },
  {
   "cell_type": "markdown",
   "metadata": {},
   "source": [
    "## Installation test\n",
    "Now we demonstrate how to generate a standard normal distribution plot. Press the play button on the left hand side. "
   ]
  },
  {
   "cell_type": "code",
   "execution_count": 4,
   "metadata": {},
   "outputs": [
    {
     "data": {
      "image/png": "[encoded data removed]",
      "text/plain": [
       "<Figure size 432x288 with 1 Axes>"
      ]
     },
     "metadata": {
      "needs_background": "light"
     },
     "output_type": "display_data"
    }
   ],
   "source": [
    "x = np.linspace(-3,3,100)  # create a set of x values\n",
    "pdf_norm=norm.pdf(x) # generate the values of the normal probability density function for each value of x\n",
    "plt.plot(x,pdf_norm) #plot the x values against the pdf values\n",
    "plt.xlabel('x-data')  # generate labels\n",
    "plt.ylabel('pdf_value')\n",
    "plt.title(\"PDF of a Normal Distribution with mean=0 and sigma=1\") #add a title\n",
    "plt.show() # show the plot\n",
    "\n",
    "# To hide the plot, click on the ... button on the left and select 'Clear cell output'"
   ]
  }
 ],
 "metadata": {
  "kernelspec": {
   "display_name": "Python 3.10.4 ('venv': venv)",
   "language": "python",
   "name": "python3"
  },
  "language_info": {
   "codemirror_mode": {
    "name": "ipython",
    "version": 3
   },
   "file_extension": ".py",
   "mimetype": "text/x-python",
   "name": "python",
   "nbconvert_exporter": "python",
   "pygments_lexer": "ipython3",
   "version": "3.10.4"
  },
  "orig_nbformat": 4,
  "vscode": {
   "interpreter": {
    "hash": "c1697507618c9ec8374ede3a9d20faaaa69b8e56aebea4fd5ebae81096d861f7"
   }
  }
 },
 "nbformat": 4,
 "nbformat_minor": 2
}
